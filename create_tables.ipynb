{
 "cells": [
  {
   "cell_type": "markdown",
   "metadata": {},
   "source": [
    "# Overview\n",
    "This is a notebook to handle the creation of our database tables to test on\n"
   ]
  },
  {
   "cell_type": "code",
   "execution_count": 20,
   "metadata": {},
   "outputs": [],
   "source": [
    "from sqlalchemy import create_engine\n",
    "import psycopg2"
   ]
  },
  {
   "cell_type": "code",
   "execution_count": 21,
   "metadata": {},
   "outputs": [],
   "source": [
    "USERNAME = \"postgres\"\n",
    "PASSWORD = \"postgres\"\n",
    "ADDRESS = \"localhost\"\n",
    "PORT = \"5432\"\n",
    "DBNAME = \"loadtesting_db\""
   ]
  },
  {
   "cell_type": "code",
   "execution_count": 22,
   "metadata": {},
   "outputs": [],
   "source": [
    "conn = psycopg2.connect(\n",
    "   database=DBNAME, user=USERNAME, password=PASSWORD, host=ADDRESS, port=PORT)\n",
    "\n",
    "cursor = conn.cursor()"
   ]
  },
  {
   "cell_type": "code",
   "execution_count": 23,
   "metadata": {},
   "outputs": [],
   "source": [
    "clear_tables= '''\n",
    "DELETE FROM loadtesting.user CASCADE;\n",
    "DELETE FROM loadtesting.invoice CASCADE;\n",
    "'''"
   ]
  },
  {
   "cell_type": "code",
   "execution_count": 24,
   "metadata": {},
   "outputs": [],
   "source": [
    "# DDL for schema and tables\n",
    "\n",
    "create_tables = '''\n",
    "CREATE SCHEMA IF NOT EXISTS loadtesting;\n",
    "\n",
    "CREATE TABLE IF NOT EXISTS loadtesting.user(\n",
    "    id TEXT PRIMARY KEY NOT NULL,\n",
    "    name TEXT,\n",
    "    age  INTEGER\n",
    "); \n",
    "\n",
    "CREATE TABLE IF NOT EXISTS loadtesting.invoice (\n",
    "    id UUID PRIMARY KEY NOT NULL,\n",
    "    user_id UUID,\n",
    "    amount INTEGER \n",
    "); \n",
    "'''"
   ]
  },
  {
   "cell_type": "code",
   "execution_count": 25,
   "metadata": {},
   "outputs": [
    {
     "name": "stdout",
     "output_type": "stream",
     "text": [
      "Tables have been dropped successfully\n",
      "Schema and tables created successfully\n"
     ]
    }
   ],
   "source": [
    "# cursor.execute(clear_tables)\n",
    "print(\"Tables have been dropped successfully\")\n",
    "cursor.execute(create_tables)\n",
    "print(\"Schema and tables created successfully\")"
   ]
  },
  {
   "cell_type": "code",
   "execution_count": 26,
   "metadata": {},
   "outputs": [],
   "source": [
    "conn.commit()\n",
    "conn.close()"
   ]
  }
 ],
 "metadata": {
  "kernelspec": {
   "display_name": "Python 3",
   "language": "python",
   "name": "python3"
  },
  "language_info": {
   "codemirror_mode": {
    "name": "ipython",
    "version": 3
   },
   "file_extension": ".py",
   "mimetype": "text/x-python",
   "name": "python",
   "nbconvert_exporter": "python",
   "pygments_lexer": "ipython3",
   "version": "3.11.3"
  }
 },
 "nbformat": 4,
 "nbformat_minor": 2
}
